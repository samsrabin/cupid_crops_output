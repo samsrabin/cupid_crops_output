{
 "cells": [
  {
   "cell_type": "markdown",
   "id": "8fcdc2ce-60ea-4f46-8209-87f10f7243da",
   "metadata": {
    "papermill": {
     "duration": 0.003142,
     "end_time": "2025-02-26T22:34:59.964954",
     "exception": false,
     "start_time": "2025-02-26T22:34:59.961812",
     "status": "completed"
    },
    "tags": []
   },
   "source": [
    "# Index homepage!"
   ]
  },
  {
   "cell_type": "code",
   "execution_count": null,
   "id": "c0d95e5f-b3c2-4647-b3f8-36a072964613",
   "metadata": {
    "papermill": {
     "duration": 0.002788,
     "end_time": "2025-02-26T22:34:59.972340",
     "exception": false,
     "start_time": "2025-02-26T22:34:59.969552",
     "status": "completed"
    },
    "tags": [
     "parameters"
    ]
   },
   "outputs": [],
   "source": []
  },
  {
   "cell_type": "code",
   "execution_count": 1,
   "id": "da0d0093",
   "metadata": {
    "execution": {
     "iopub.execute_input": "2025-02-26T22:34:59.976184Z",
     "iopub.status.busy": "2025-02-26T22:34:59.975783Z",
     "iopub.status.idle": "2025-02-26T22:34:59.989481Z",
     "shell.execute_reply": "2025-02-26T22:34:59.989030Z"
    },
    "papermill": {
     "duration": 0.017007,
     "end_time": "2025-02-26T22:34:59.990655",
     "exception": false,
     "start_time": "2025-02-26T22:34:59.973648",
     "status": "completed"
    },
    "tags": [
     "injected-parameters"
    ]
   },
   "outputs": [],
   "source": [
    "# Parameters\n",
    "case_name = \"b.e30_beta02.BLT1850.ne30_t232.104\"\n",
    "base_case_name = \"b.e23_alpha17f.BLT1850.ne30_t232.092\"\n",
    "CESM_output_dir = \"/glade/campaign/cesm/development/cross-wg/diagnostic_framework/CESM_output_for_testing\"\n",
    "start_date = \"0001-01-01\"\n",
    "end_date = \"0101-01-01\"\n",
    "base_start_date = \"0001-01-01\"\n",
    "base_end_date = \"0101-01-01\"\n",
    "lc_kwargs = {\"threads_per_worker\": 1}\n",
    "serial = False\n",
    "subset_kwargs = {}\n",
    "product = \"/glade/work/samrabin/cupid_crops/examples/key_metrics/computed_notebooks//infrastructure/index.ipynb\"\n"
   ]
  }
 ],
 "metadata": {
  "kernelspec": {
   "display_name": "cupid-analysis",
   "language": "python",
   "name": "cupid-analysis"
  },
  "language_info": {
   "codemirror_mode": {
    "name": "ipython",
    "version": 3
   },
   "file_extension": ".py",
   "mimetype": "text/x-python",
   "name": "python",
   "nbconvert_exporter": "python",
   "pygments_lexer": "ipython3",
   "version": "3.11.4"
  },
  "papermill": {
   "duration": 9.263084,
   "end_time": "2025-02-26T22:35:00.208743",
   "exception": null,
   "input_path": "/glade/derecho/scratch/samrabin/tmp/tmphqc6bvr3.ipynb",
   "output_path": "/glade/work/samrabin/cupid_crops/examples/key_metrics/computed_notebooks/infrastructure/index.ipynb",
   "parameters": {
    "CESM_output_dir": "/glade/campaign/cesm/development/cross-wg/diagnostic_framework/CESM_output_for_testing",
    "base_case_name": "b.e23_alpha17f.BLT1850.ne30_t232.092",
    "base_end_date": "0101-01-01",
    "base_start_date": "0001-01-01",
    "case_name": "b.e30_beta02.BLT1850.ne30_t232.104",
    "end_date": "0101-01-01",
    "lc_kwargs": {
     "threads_per_worker": 1
    },
    "product": "/glade/work/samrabin/cupid_crops/examples/key_metrics/computed_notebooks//infrastructure/index.ipynb",
    "serial": false,
    "start_date": "0001-01-01",
    "subset_kwargs": {}
   },
   "start_time": "2025-02-26T22:34:50.945659"
  }
 },
 "nbformat": 4,
 "nbformat_minor": 5
}