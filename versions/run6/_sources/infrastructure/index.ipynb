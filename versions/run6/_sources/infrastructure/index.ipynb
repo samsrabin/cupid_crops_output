{
 "cells": [
  {
   "cell_type": "markdown",
   "id": "8fcdc2ce-60ea-4f46-8209-87f10f7243da",
   "metadata": {
    "papermill": {
     "duration": 0.002083,
     "end_time": "2025-01-30T22:34:17.377268",
     "exception": false,
     "start_time": "2025-01-30T22:34:17.375185",
     "status": "completed"
    },
    "tags": []
   },
   "source": [
    "# Index homepage!"
   ]
  },
  {
   "cell_type": "code",
   "execution_count": null,
   "id": "c0d95e5f-b3c2-4647-b3f8-36a072964613",
   "metadata": {
    "papermill": {
     "duration": 0.001707,
     "end_time": "2025-01-30T22:34:17.381919",
     "exception": false,
     "start_time": "2025-01-30T22:34:17.380212",
     "status": "completed"
    },
    "tags": [
     "parameters"
    ]
   },
   "outputs": [],
   "source": []
  },
  {
   "cell_type": "code",
   "execution_count": 1,
   "id": "6bb186f9",
   "metadata": {
    "execution": {
     "iopub.execute_input": "2025-01-30T22:34:17.386500Z",
     "iopub.status.busy": "2025-01-30T22:34:17.386216Z",
     "iopub.status.idle": "2025-01-30T22:34:17.394391Z",
     "shell.execute_reply": "2025-01-30T22:34:17.393897Z"
    },
    "papermill": {
     "duration": 0.011604,
     "end_time": "2025-01-30T22:34:17.395290",
     "exception": false,
     "start_time": "2025-01-30T22:34:17.383686",
     "status": "completed"
    },
    "tags": [
     "injected-parameters"
    ]
   },
   "outputs": [],
   "source": [
    "# Parameters\n",
    "case_name = \"ctsm53019_f09_BNF_hist\"\n",
    "base_case_name = \"b.e23_alpha17f.BLT1850.ne30_t232.092\"\n",
    "CESM_output_dir = \"/glade/work/samrabin\"\n",
    "start_date = \"0001-01-01\"\n",
    "end_date = \"0101-01-01\"\n",
    "base_start_date = \"0001-01-01\"\n",
    "base_end_date = \"0101-01-01\"\n",
    "lc_kwargs = {\"threads_per_worker\": 1}\n",
    "serial = False\n",
    "subset_kwargs = {}\n",
    "product = \"/glade/work/samrabin/cupid_crops/examples/crops/computed_notebooks//infrastructure/index.ipynb\"\n"
   ]
  }
 ],
 "metadata": {
  "kernelspec": {
   "display_name": "cupid-analysis",
   "language": "python",
   "name": "cupid-analysis"
  },
  "language_info": {
   "codemirror_mode": {
    "name": "ipython",
    "version": 3
   },
   "file_extension": ".py",
   "mimetype": "text/x-python",
   "name": "python",
   "nbconvert_exporter": "python",
   "pygments_lexer": "ipython3",
   "version": "3.11.4"
  },
  "papermill": {
   "duration": 9.822169,
   "end_time": "2025-01-30T22:34:17.613938",
   "exception": null,
   "input_path": "/glade/derecho/scratch/samrabin/tmp/tmpisbhz7zh.ipynb",
   "output_path": "/glade/work/samrabin/cupid_crops/examples/crops/computed_notebooks/infrastructure/index.ipynb",
   "parameters": {
    "CESM_output_dir": "/glade/work/samrabin",
    "base_case_name": "b.e23_alpha17f.BLT1850.ne30_t232.092",
    "base_end_date": "0101-01-01",
    "base_start_date": "0001-01-01",
    "case_name": "ctsm53019_f09_BNF_hist",
    "end_date": "0101-01-01",
    "lc_kwargs": {
     "threads_per_worker": 1
    },
    "product": "/glade/work/samrabin/cupid_crops/examples/crops/computed_notebooks//infrastructure/index.ipynb",
    "serial": false,
    "start_date": "0001-01-01",
    "subset_kwargs": {}
   },
   "start_time": "2025-01-30T22:34:07.791769"
  }
 },
 "nbformat": 4,
 "nbformat_minor": 5
}